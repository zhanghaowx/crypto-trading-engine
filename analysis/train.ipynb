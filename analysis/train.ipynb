{
 "cells": [
  {
   "cell_type": "code",
   "outputs": [],
   "source": [
    "# Enable autoreload extension\n",
    "%load_ext autoreload\n",
    "%autoreload 2"
   ],
   "metadata": {
    "collapsed": false
   },
   "id": "2072fa698a0c1905",
   "execution_count": null
  },
  {
   "cell_type": "code",
   "outputs": [],
   "source": [
    "import seaborn as sns\n",
    "from matplotlib import pyplot as plt\n",
    "\n",
    "from analysis.scripts.database_tool import DatabaseTool\n",
    "from analysis.scripts.ml_tool import MLTool\n",
    "from analysis.scripts.visualization_tool import VisualizationTool\n",
    "\n",
    "db_tool = DatabaseTool(\"/tmp/replay.sqlite\")\n",
    "vis_tool = VisualizationTool(db_tool)\n",
    "ml_tool = MLTool(db_tool)"
   ],
   "metadata": {
    "collapsed": false
   },
   "id": "2032ee22e64cd609",
   "execution_count": null
  },
  {
   "cell_type": "markdown",
   "source": [
    "# Machine Learning Model Training\n",
    "\n",
    "Training a machine learning model to assign a score to each trade opportunity. All the needed feature are already encoded in \"score_details\""
   ],
   "metadata": {
    "collapsed": false
   },
   "id": "17afa1e172d21659"
  },
  {
   "cell_type": "code",
   "outputs": [],
   "source": [
    "import pandas as pd\n",
    "pd.options.display.float_format = '{:.5f}'.format\n",
    "\n",
    "trade_result = db_tool.load_trade_result()\n",
    "score_details = MLTool.wrangle(trade_result)\n",
    "score_details[\"profit\"] = trade_result[\"profit\"]\n",
    "score_details.select_dtypes(\"number\").corr()"
   ],
   "metadata": {
    "collapsed": false
   },
   "id": "b428794388b8a4bf",
   "execution_count": null
  },
  {
   "cell_type": "code",
   "outputs": [],
   "source": [
    "model, cm = ml_tool.train(\"random_forest\", drop_columns=[])\n",
    "plt.figure(figsize=(8, 6))\n",
    "sns.heatmap(cm, \n",
    "            annot=True, \n",
    "            fmt=\"d\", \n",
    "            cmap=\"Blues\", \n",
    "            cbar=False,\n",
    "            xticklabels=[\"Not Profitable\", \"Profitable\"], \n",
    "            yticklabels=[\"Not Profitable\", \"Profitable\"])\n",
    "plt.title(\"Confusion Matrix\")\n",
    "plt.xlabel(\"Predicted\")\n",
    "plt.ylabel(\"Actual\")\n",
    "plt.show()"
   ],
   "metadata": {
    "collapsed": false
   },
   "id": "78423e83afe416a5"
  }
 ],
 "metadata": {
  "kernelspec": {
   "display_name": "Python 3",
   "language": "python",
   "name": "python3"
  },
  "language_info": {
   "codemirror_mode": {
    "name": "ipython",
    "version": 2
   },
   "file_extension": ".py",
   "mimetype": "text/x-python",
   "name": "python",
   "nbconvert_exporter": "python",
   "pygments_lexer": "ipython2",
   "version": "2.7.6"
  }
 },
 "nbformat": 4,
 "nbformat_minor": 5
}
