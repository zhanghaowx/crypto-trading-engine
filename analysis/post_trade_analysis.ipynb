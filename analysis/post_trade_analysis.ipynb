{
 "cells": [
  {
   "cell_type": "markdown",
   "id": "53f2ee0eafcddfef",
   "metadata": {
    "collapsed": false
   },
   "source": [
    "# Post Trade Analysis\n",
    "\n",
    "Run all cells to get an idea of the trade result."
   ]
  },
  {
   "cell_type": "code",
   "outputs": [],
   "source": [
    "# Enable autoreload extension\n",
    "%load_ext autoreload\n",
    "%autoreload 2"
   ],
   "metadata": {
    "collapsed": false
   },
   "id": "781e8b00066a2204",
   "execution_count": null
  },
  {
   "cell_type": "code",
   "outputs": [],
   "source": [
    "import pandas as pd\n",
    "from matplotlib import pyplot as plt\n",
    "\n",
    "from analysis.scripts.database_tool import DatabaseTool\n",
    "from analysis.scripts.ml_tool import MLTool\n",
    "from analysis.scripts.visualization_tool import VisualizationTool\n",
    "\n",
    "#db_tool = DatabaseTool(\"/home/hao/train_0120-0124.sqlite\")\n",
    "db_tool = DatabaseTool(\"/tmp/replay.sqlite\")\n",
    "vis_tool = VisualizationTool(db_tool)\n",
    "ml_tool = MLTool(db_tool)"
   ],
   "metadata": {
    "collapsed": false
   },
   "id": "f5feea44001dcb4f",
   "execution_count": null
  },
  {
   "cell_type": "markdown",
   "source": [
    "# Visualization"
   ],
   "metadata": {
    "collapsed": false
   },
   "id": "cdb4eb7387dad2e9"
  },
  {
   "cell_type": "code",
   "outputs": [],
   "source": [
    "vis_tool.draw().show()"
   ],
   "metadata": {
    "collapsed": false
   },
   "id": "37581b6842527e24",
   "execution_count": null
  },
  {
   "cell_type": "markdown",
   "source": [
    "# Statistical Analysis"
   ],
   "metadata": {
    "collapsed": false
   },
   "id": "4e43e67111e616bc"
  },
  {
   "cell_type": "code",
   "outputs": [],
   "source": [
    "summary = pd.DataFrame.from_dict(ml_tool.get_summary(), orient=\"index\", columns=[\"Count\"])\n",
    "summary"
   ],
   "metadata": {
    "collapsed": false
   },
   "id": "8608ccc9a75899ec",
   "execution_count": null
  },
  {
   "cell_type": "code",
   "outputs": [],
   "source": [
    "pd.options.display.float_format = '{:.5f}'.format\n",
    "\n",
    "trade_result = db_tool.load_trade_result()\n",
    "score_details = MLTool.wrangle(trade_result)\n",
    "score_details[\"score\"] = trade_result[\"opportunity.score\"]\n",
    "score_details[\"profit\"] = trade_result[\"profit\"]\n",
    "score_details[\"time\"] = trade_result[\"opportunity.bull_flag_pattern.bull_flag.start_time\"]\n",
    "score_details"
   ],
   "metadata": {
    "collapsed": false
   },
   "id": "5eeda1b7c7fb48ed",
   "execution_count": null
  },
  {
   "cell_type": "markdown",
   "source": [
    "## Relationship between score and profit"
   ],
   "metadata": {
    "collapsed": false
   },
   "id": "26c9ff1d2f1f1b32"
  },
  {
   "cell_type": "code",
   "outputs": [],
   "source": [
    "score_details.select_dtypes(\"number\").corr()"
   ],
   "metadata": {
    "collapsed": false
   },
   "id": "a4127f613bf87b62",
   "execution_count": null
  },
  {
   "cell_type": "code",
   "outputs": [],
   "source": [
    "import seaborn as sns\n",
    "sns.scatterplot(score_details, x=\"score\", y=\"profit\")"
   ],
   "metadata": {
    "collapsed": false
   },
   "id": "372f9a8c053715b8",
   "execution_count": null
  },
  {
   "cell_type": "markdown",
   "source": [
    "# Machine Learning Experimental"
   ],
   "metadata": {
    "collapsed": false
   },
   "id": "2d9186bdfa2367c0"
  },
  {
   "cell_type": "code",
   "outputs": [],
   "source": [
    "model, cm = ml_tool.train(\"random_forest\", drop_columns=[])\n",
    "plt.figure(figsize=(8, 6))\n",
    "sns.heatmap(cm, annot=True, fmt=\"d\", cmap=\"Blues\", cbar=False,\n",
    "            xticklabels=[\"Not Profitable\", \"Profitable\"], yticklabels=[\"Not Profitable\", \"Profitable\"])\n",
    "plt.title(\"Confusion Matrix\")\n",
    "plt.xlabel(\"Predicted\")\n",
    "plt.ylabel(\"Actual\")\n",
    "plt.show()"
   ],
   "metadata": {
    "collapsed": false
   },
   "id": "7c79d5355f5eaa86",
   "execution_count": null
  },
  {
   "cell_type": "code",
   "outputs": [],
   "source": [
    "test_df = MLTool.predict(\"/tmp/replay.sqlite\", model, drop_columns=[])\n",
    "test_df"
   ],
   "metadata": {
    "collapsed": false
   },
   "id": "7c4cfcb9dfbbdb48",
   "execution_count": null
  }
 ],
 "metadata": {
  "kernelspec": {
   "display_name": "Python 3 (ipykernel)",
   "language": "python",
   "name": "python3"
  },
  "language_info": {
   "codemirror_mode": {
    "name": "ipython",
    "version": 3
   },
   "file_extension": ".py",
   "mimetype": "text/x-python",
   "name": "python",
   "nbconvert_exporter": "python",
   "pygments_lexer": "ipython3",
   "version": "3.11.6"
  }
 },
 "nbformat": 4,
 "nbformat_minor": 5
}
