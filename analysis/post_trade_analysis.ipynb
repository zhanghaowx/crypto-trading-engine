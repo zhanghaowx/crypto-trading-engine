{
 "cells": [
  {
   "cell_type": "markdown",
   "id": "53f2ee0eafcddfef",
   "metadata": {
    "collapsed": false
   },
   "source": [
    "# Post Trade Analysis\n",
    "\n",
    "Note: Please drag the SQLite file to the folder where you ran this notebook."
   ]
  },
  {
   "cell_type": "markdown",
   "source": [
    "## All Buy-Sell Pairs + Opportunity\n",
    "Check details of each trade decision."
   ],
   "metadata": {
    "collapsed": false
   },
   "id": "21488a4a2f9938f0"
  },
  {
   "cell_type": "code",
   "execution_count": null,
   "id": "81fca2d32c647e0d",
   "metadata": {
    "collapsed": false
   },
   "outputs": [],
   "source": [
    "import pandas as pd\n",
    "import sqlite3\n",
    "\n",
    "# Database connection\n",
    "conn = sqlite3.connect(\"crypto.sqlite\")\n",
    "\n",
    "# Read candlesticks from database\n",
    "df = pd.read_sql(\"select * from trade_result\", con=conn)\n",
    "df[\"profit\"] = df[\"sell_trades.0.price\"] * df[\"sell_trades.0.quantity\"] - df[\"buy_trades.0.price\"] * df[\"buy_trades.0.quantity\"]\n",
    "df[[\n",
    "    \"opportunity.start\",\n",
    "    \"opportunity.score\",\n",
    "    \"opportunity.risk_reward_ratio\",\n",
    "    \"opportunity.profit_price\",\n",
    "    \"opportunity.expected_trade_price\",\n",
    "    \"opportunity.stop_loss_price\",\n",
    "    \"opportunity.consolidation_period_max_ratio\",\n",
    "    \"opportunity.bull_flag_return_pct\",\n",
    "    \"opportunity.bull_flag_open_close\",\n",
    "    \"opportunity.stop_loss_from_support\",\n",
    "    \"opportunity.stop_loss_from_atr\",\n",
    "    \"buy_trades.0.client_order_id\",\n",
    "    \"sell_trades.0.client_order_id\",\n",
    "    \"buy_trades.0.price\",\n",
    "    \"sell_trades.0.price\",\n",
    "    \"profit\"\n",
    "]]"
   ]
  },
  {
   "cell_type": "markdown",
   "source": [
    "## Win Rate"
   ],
   "metadata": {
    "collapsed": false
   },
   "id": "5f00542af8ce4216"
  },
  {
   "cell_type": "code",
   "outputs": [],
   "source": [
    "win_rate = len(df[df[\"profit\"] > 0]) / len(df) * 100\n",
    "print(f\"Win Rate: {win_rate:.2f}%\")"
   ],
   "metadata": {
    "collapsed": false
   },
   "id": "2cdcc63d601be14f",
   "execution_count": null
  },
  {
   "cell_type": "markdown",
   "source": [
    "## Score vs. PnL\n",
    "Check if our score system is good or not."
   ],
   "metadata": {
    "collapsed": false
   },
   "id": "4cbd60ce2f7df41e"
  },
  {
   "cell_type": "code",
   "outputs": [],
   "source": [
    "df.plot(\n",
    "    kind=\"scatter\",\n",
    "    x=\"opportunity.score\",\n",
    "    y=\"profit\",\n",
    ")"
   ],
   "metadata": {
    "collapsed": false
   },
   "id": "ddc7c66b0862b9f",
   "execution_count": null
  },
  {
   "cell_type": "code",
   "execution_count": null,
   "id": "initial_id",
   "metadata": {},
   "outputs": [],
   "source": [
    "import mplfinance as mpf\n",
    "\n",
    "def table_exists(conn: sqlite3.Connection, table_name: str)-> bool:        \n",
    "    # SQL query to check if the table exists\n",
    "    query = f\"SELECT name FROM sqlite_master WHERE type='table' AND name='{table_name}';\"\n",
    "    \n",
    "    # Execute the query\n",
    "    query_result = pd.read_sql_query(query, conn)\n",
    "    return len(query_result) > 0\n",
    "\n",
    "\n",
    "def get_trades(conn: sqlite3.Connection, table_name: str, market_side: str, needs_rounding: bool = True) -> pd.DataFrame:\n",
    "    if table_exists(conn, table_name):\n",
    "        trades_df = pd.read_sql(f\"select * from {table_name} where side='{market_side.upper()}'\",\n",
    "                         con=conn)\n",
    "        trades_df[\"transaction_time\"] = pd.to_datetime(trades_df[\"transaction_time\"])                              \n",
    "        if needs_rounding:                                 \n",
    "            trades_df[\"transaction_time\"] = trades_df[\"transaction_time\"].dt.round(\"1min\")\n",
    "        trades_df.set_index('transaction_time', inplace=True)\n",
    "        \n",
    "        print(f\"Read {len(trades_df)} trades from {table_name} table.\")\n",
    "        return trades_df\n",
    "    \n",
    "    print(f\"Read 0 trades from {table_name} table.\")\n",
    "    return pd.DataFrame()\n",
    "\n",
    "\n",
    "def get_candlesticks(database_name):\n",
    "    # Database connection\n",
    "    conn = sqlite3.connect(database_name)\n",
    "\n",
    "    # Read candlesticks from database\n",
    "    df_candlesticks = pd.read_sql(\"select * from calculated_candlestick_feed\", con=conn)\n",
    "    df_candlesticks[\"start_time\"] = pd.to_datetime(df_candlesticks[\"start_time\"], format=\"%Y-%m-%d %H:%M:%S%z\")\n",
    "    df_candlesticks[\"end_time\"] = pd.to_datetime(df_candlesticks[\"end_time\"], format=\"%Y-%m-%d %H:%M:%S%z\")\n",
    "    df_candlesticks.set_index('start_time', inplace=True)\n",
    "    df_candlesticks.sort_index(ascending=True, inplace=True)\n",
    "    return df_candlesticks\n",
    "\n",
    "\n",
    "def mpf_trades(database_name: str):    \n",
    "    # Read candlesticks from database\n",
    "    df_candlesticks = get_candlesticks(database_name)\n",
    "\n",
    "    # Database connection\n",
    "    conn = sqlite3.connect(database_name)\n",
    "\n",
    "    # Additional plots to draw buy orders with green triangles and sell orders with red triangles\n",
    "    add_plots = []\n",
    "\n",
    "    # Read buy orders from database\n",
    "    buy_orders_df = get_trades(conn, \"order_fill\", \"buy\")\n",
    "    if len(buy_orders_df) > 0:\n",
    "        buy_orders_df = buy_orders_df.reindex(df_candlesticks.index, axis='index', fill_value=np.NaN)\n",
    "        add_plots.append(mpf.make_addplot(buy_orders_df['price'], \n",
    "                                          type='scatter', markersize=100, \n",
    "                                          marker='^', color='b', label='Buy Orders'))\n",
    "\n",
    "    # Read sell orders from database\n",
    "    sell_orders_df = get_trades(conn, \"order_fill\", \"sell\")\n",
    "    if len(sell_orders_df) > 0:\n",
    "        sell_orders_df = sell_orders_df.reindex(df_candlesticks.index, axis='index', fill_value=np.NaN)\n",
    "        add_plots.append(mpf.make_addplot(sell_orders_df['price'], \n",
    "                                          type='scatter', markersize=100, \n",
    "                                          marker='v', color='purple', label='Sell Orders'))\n",
    "    \n",
    "    # Plot candlestick chart\n",
    "    mpf.plot(df_candlesticks, \n",
    "             type='candle', \n",
    "             volume=True,\n",
    "             style='yahoo', \n",
    "             axtitle=f'{len(df_candlesticks)} Candlestick Chart with {len(buy_orders_df.dropna())} Buy and {len(sell_orders_df.dropna())} Sell Orders', \n",
    "             xlabel=\"Time\",\n",
    "             ylabel='Price', \n",
    "             figsize=(60, 10),\n",
    "             datetime_format='%Y-%m-%dT%H:%M:%S',\n",
    "             addplot=add_plots,\n",
    "    )\n",
    "    "
   ]
  },
  {
   "cell_type": "markdown",
   "id": "d380ac55140b4f",
   "metadata": {
    "collapsed": false
   },
   "source": []
  },
  {
   "cell_type": "code",
   "execution_count": null,
   "id": "c09c1fdaaae67858",
   "metadata": {
    "collapsed": false
   },
   "outputs": [],
   "source": [
    "import numpy as np\n",
    "import pandas as pd\n",
    "import plotly.graph_objects as go\n",
    "import sqlite3\n",
    "\n",
    "\n",
    "def plotly_trades(database_name: str):    \n",
    "    # Database connection\n",
    "    conn = sqlite3.connect(database_name)\n",
    "\n",
    "    # Read candlesticks from database\n",
    "    df_candlesticks = pd.read_sql(\"select * from calculated_candlestick_feed\", con=conn)\n",
    "    df_candlesticks[\"start_time\"] = pd.to_datetime(df_candlesticks[\"start_time\"], format=\"%Y-%m-%d %H:%M:%S%z\")\n",
    "    df_candlesticks[\"end_time\"] = pd.to_datetime(df_candlesticks[\"end_time\"], format=\"%Y-%m-%d %H:%M:%S%z\")\n",
    "    df_candlesticks[\"bullish\"] = (df_candlesticks['close'] > df_candlesticks['open']).astype(int)\n",
    "    df_candlesticks.set_index('start_time', inplace=True)\n",
    "    df_candlesticks.sort_index(ascending=True, inplace=True)\n",
    "\n",
    "    # Read buy orders from database\n",
    "    buy_orders_df = get_trades(conn, \"order_fill\", \"buy\", needs_rounding=False)\n",
    "\n",
    "    # Read sell orders from database\n",
    "    sell_orders_df = get_trades(conn, \"order_fill\", \"sell\", needs_rounding=False)\n",
    "    \n",
    "    buy_markers = []\n",
    "    if len(buy_orders_df) > 0:\n",
    "        buy_markers = [go.Scatter(\n",
    "            x=buy_orders_df.index,\n",
    "            y=buy_orders_df['price'],\n",
    "            mode='markers',\n",
    "            marker=dict(color='cyan', size=10, symbol='triangle-up'),\n",
    "            name='Buy Orders'\n",
    "        )]\n",
    "\n",
    "    sell_markers = []\n",
    "    if len(sell_orders_df) > 0:    \n",
    "        sell_markers = [go.Scatter(\n",
    "            x=sell_orders_df.index,\n",
    "            y=sell_orders_df['price'],\n",
    "            mode='markers',\n",
    "            marker=dict(color='purple', size=10, symbol='triangle-down'),\n",
    "            name='Sell Orders'\n",
    "        )]\n",
    "\n",
    "    # Create volume bar trace\n",
    "    volume_colors = df_candlesticks[\"bullish\"].apply(lambda x: \"rgba(0, 200, 0, 0.1)\" if x == 1 else \"rgba(200, 0, 0, 0.1)\").to_list()\n",
    "    volume_trace = go.Bar(\n",
    "        x=df_candlesticks.index,\n",
    "        y=df_candlesticks['volume'],\n",
    "        yaxis='y2',  # Use secondary y-axis for volume\n",
    "        marker=dict(\n",
    "            color=volume_colors\n",
    "        ),\n",
    "        name='Volume',\n",
    "        hoverinfo='skip'\n",
    "    )\n",
    "\n",
    "    layout = go.Layout(\n",
    "        title=f'{len(df_candlesticks)} Candlestick Chart with {len(buy_orders_df.dropna())} Buy and {len(sell_orders_df.dropna())} Sell Orders', \n",
    "        xaxis=dict(title='Date (UTC)'),\n",
    "        yaxis=dict(title='Price (Dollars)'),\n",
    "        yaxis2=dict(title='Volume', overlaying='y', side='right')\n",
    "    )\n",
    "\n",
    "    # Plot candlestick chart\n",
    "    fig = go.Figure(data=[\n",
    "        volume_trace,\n",
    "        go.Candlestick(x=df_candlesticks.index, # date values\n",
    "                       open=df_candlesticks['open'],\n",
    "                       high=df_candlesticks['high'],\n",
    "                       low=df_candlesticks['low'],\n",
    "                       close=df_candlesticks['close'],\n",
    "                       name='Candlestick'\n",
    "        ),\n",
    "    ] + buy_markers + sell_markers, layout=layout)\n",
    "    \n",
    "    # Set layout size\n",
    "    fig.update_layout(\n",
    "        xaxis_rangeslider_visible=True, \n",
    "        autosize=False,\n",
    "        width=2500,\n",
    "        height=2000)\n",
    "    fig.show()\n",
    "\n"
   ]
  },
  {
   "cell_type": "markdown",
   "source": [
    "# Plot Candlesticks and Trades\n"
   ],
   "metadata": {
    "collapsed": false
   },
   "id": "afde0a67f3e4415d"
  },
  {
   "cell_type": "code",
   "outputs": [],
   "source": [
    "#mpf_trades('crypto.sqlite')\n",
    "plotly_trades('crypto.sqlite')"
   ],
   "metadata": {
    "collapsed": false
   },
   "id": "dba9a517d2aba2da",
   "execution_count": null
  },
  {
   "cell_type": "code",
   "outputs": [],
   "source": [],
   "metadata": {
    "collapsed": false
   },
   "id": "7c34a5cc9ccc2630"
  }
 ],
 "metadata": {
  "kernelspec": {
   "display_name": "Python 3 (ipykernel)",
   "language": "python",
   "name": "python3"
  },
  "language_info": {
   "codemirror_mode": {
    "name": "ipython",
    "version": 3
   },
   "file_extension": ".py",
   "mimetype": "text/x-python",
   "name": "python",
   "nbconvert_exporter": "python",
   "pygments_lexer": "ipython3",
   "version": "3.11.6"
  }
 },
 "nbformat": 4,
 "nbformat_minor": 5
}
