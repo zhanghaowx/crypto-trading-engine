{
 "cells": [
  {
   "cell_type": "markdown",
   "id": "53f2ee0eafcddfef",
   "metadata": {
    "collapsed": false
   },
   "source": [
    "# Post Trade Analysis\n",
    "\n",
    "Run all cells to get an idea of the trade result."
   ]
  },
  {
   "cell_type": "code",
   "outputs": [],
   "source": [
    "# Enable autoreload extension\n",
    "%load_ext autoreload\n",
    "%autoreload 2\n",
    "import pandas as pd\n",
    "\n",
    "from analysis.scripts.post_trade_plot import PostTradePlot\n",
    "\n",
    "tool = PostTradePlot(\"/tmp/replay.sqlite\")"
   ],
   "metadata": {
    "collapsed": false
   },
   "id": "f5feea44001dcb4f",
   "execution_count": null
  },
  {
   "cell_type": "code",
   "outputs": [],
   "source": [
    "summary = pd.DataFrame.from_dict(tool.get_summary(), orient=\"index\", columns=[\"Count\"])\n",
    "summary"
   ],
   "metadata": {
    "collapsed": false
   },
   "id": "8608ccc9a75899ec",
   "execution_count": null
  },
  {
   "cell_type": "code",
   "outputs": [],
   "source": [
    "trade_result = tool.load_trade_result()\n",
    "score_details = tool.wrangle(trade_result)\n",
    "score_details[\"score\"] = trade_result[\"opportunity.score\"]\n",
    "score_details[\"profit\"] = trade_result[\"profit\"]\n",
    "score_details"
   ],
   "metadata": {
    "collapsed": false
   },
   "id": "5eeda1b7c7fb48ed",
   "execution_count": null
  },
  {
   "cell_type": "code",
   "outputs": [],
   "source": [
    "tool.draw().show()\n",
    "tool.save_draw()"
   ],
   "metadata": {
    "collapsed": false
   },
   "id": "a62a21c4fe0bbb14",
   "execution_count": null
  },
  {
   "cell_type": "code",
   "outputs": [],
   "source": [
    "tool.load_table(\"bull_trend_rider_opportunity\")"
   ],
   "metadata": {
    "collapsed": false
   },
   "id": "8af6aca2c8d11772",
   "execution_count": null
  },
  {
   "cell_type": "markdown",
   "source": [
    "# Machine Learning Experimental"
   ],
   "metadata": {
    "collapsed": false
   },
   "id": "2d9186bdfa2367c0"
  },
  {
   "cell_type": "code",
   "outputs": [],
   "source": [
    "# model, predict_df = tool.predict(drop_columns=['min_prev_return_pct', 'max_prev_return_pct'])\n",
    "# predict_tool = PostTradePlot(\"/tmp/replay.sqlite\")\n",
    "# predict_df = predict_tool.wrangle(predict_tool.load_trade_result(), drop_columns=['min_prev_return_pct', 'max_prev_return_pct'])\n",
    "# predict_df[\"prediction\"] = model.predict(predict_df.drop(columns=[\"is_profit\"]))\n",
    "# predict_df"
   ],
   "metadata": {
    "collapsed": false
   },
   "id": "7c79d5355f5eaa86",
   "execution_count": null
  }
 ],
 "metadata": {
  "kernelspec": {
   "display_name": "Python 3 (ipykernel)",
   "language": "python",
   "name": "python3"
  },
  "language_info": {
   "codemirror_mode": {
    "name": "ipython",
    "version": 3
   },
   "file_extension": ".py",
   "mimetype": "text/x-python",
   "name": "python",
   "nbconvert_exporter": "python",
   "pygments_lexer": "ipython3",
   "version": "3.11.6"
  }
 },
 "nbformat": 4,
 "nbformat_minor": 5
}
