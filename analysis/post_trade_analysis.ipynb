{
 "cells": [
  {
   "cell_type": "markdown",
   "id": "53f2ee0eafcddfef",
   "metadata": {
    "collapsed": false
   },
   "source": [
    "# Post Trade Analysis\n",
    "\n",
    "Note: Please drag the SQLite file to the folder where you ran this notebook."
   ]
  },
  {
   "cell_type": "markdown",
   "source": [
    "## All Buy-Sell Pairs + Opportunity\n",
    "Check details of each trade decision."
   ],
   "metadata": {
    "collapsed": false
   },
   "id": "21488a4a2f9938f0"
  },
  {
   "cell_type": "code",
   "execution_count": null,
   "id": "81fca2d32c647e0d",
   "metadata": {
    "collapsed": false
   },
   "outputs": [],
   "source": [
    "import sqlite3\n",
    "\n",
    "import pandas as pd\n",
    "\n",
    "# Database connection\n",
    "conn = sqlite3.connect(\"crypto.sqlite\")\n",
    "\n",
    "# Read candlesticks from database\n",
    "df = pd.read_sql(\"select * from trade_result\", con=conn)\n",
    "df[\"profit\"] = df[\"sell_trades.0.price\"] * df[\"sell_trades.0.quantity\"] - df[\"buy_trades.0.price\"] * df[\"buy_trades.0.quantity\"]\n",
    "df_result = df[[\n",
    "    \"opportunity.bull_flag_pattern.start\",\n",
    "    \"opportunity.score\",\n",
    "    \"opportunity.risk_reward_ratio\",\n",
    "    \"opportunity.profit_price\",\n",
    "    \"opportunity.expected_trade_price\",\n",
    "    \"opportunity.stop_loss_price\",\n",
    "    \"buy_trades.0.price\",\n",
    "    \"sell_trades.0.price\",\n",
    "    \"profit\"\n",
    "]]\n",
    "df_result"
   ]
  },
  {
   "cell_type": "markdown",
   "source": [
    " ## Win Rate"
   ],
   "metadata": {
    "collapsed": false
   },
   "id": "5f00542af8ce4216"
  },
  {
   "cell_type": "code",
   "outputs": [],
   "source": [
    "result_df = pd.read_sql(\"select * from trade_result\", con=conn)\n",
    "result_df"
   ],
   "metadata": {
    "collapsed": false
   },
   "id": "8ced815d613822fd",
   "execution_count": null
  },
  {
   "cell_type": "code",
   "outputs": [],
   "source": [
    "win_rate = len(df[df[\"profit\"] > 0]) / len(df) * 100\n",
    "print(f\"Win Rate: {win_rate:.2f}%\")\n",
    "pnl = sum(df[\"profit\"])\n",
    "print(f\"PnL: {pnl:.2f}\")"
   ],
   "metadata": {
    "collapsed": false
   },
   "id": "2cdcc63d601be14f",
   "execution_count": null
  },
  {
   "cell_type": "markdown",
   "source": [
    "## Score vs. PnL\n",
    "Check if our score system is good or not."
   ],
   "metadata": {
    "collapsed": false
   },
   "id": "4cbd60ce2f7df41e"
  },
  {
   "cell_type": "code",
   "outputs": [],
   "source": [
    "df.plot(\n",
    "    kind=\"scatter\",\n",
    "    x=\"opportunity.score\",\n",
    "    y=\"profit\",\n",
    ")"
   ],
   "metadata": {
    "collapsed": false
   },
   "id": "ddc7c66b0862b9f",
   "execution_count": null
  },
  {
   "cell_type": "markdown",
   "source": [
    "# Plot Candlesticks and Trades\n"
   ],
   "metadata": {
    "collapsed": false
   },
   "id": "afde0a67f3e4415d"
  },
  {
   "cell_type": "code",
   "outputs": [],
   "source": [
    "# Enable autoreload extension\n",
    "%load_ext autoreload\n",
    "%autoreload 2"
   ],
   "metadata": {
    "collapsed": false
   },
   "id": "dba9a517d2aba2da",
   "execution_count": null
  },
  {
   "cell_type": "code",
   "outputs": [],
   "source": [
    "from analysis.scripts.post_trade_plot import PostTradePlot\n",
    "\n",
    "tool = PostTradePlot(\"crypto.sqlite\")\n",
    "tool.draw()"
   ],
   "metadata": {
    "collapsed": false
   },
   "id": "3ff17b281b7d3cdc",
   "execution_count": null
  },
  {
   "cell_type": "code",
   "outputs": [],
   "source": [
    "tool.load_candlesticks(\"calculated_candlestick_feed\")"
   ],
   "metadata": {
    "collapsed": false
   },
   "id": "fbdba1967996db98",
   "execution_count": null
  },
  {
   "cell_type": "code",
   "outputs": [],
   "source": [],
   "metadata": {
    "collapsed": false
   },
   "id": "434be85305e81391",
   "execution_count": null
  }
 ],
 "metadata": {
  "kernelspec": {
   "display_name": "Python 3 (ipykernel)",
   "language": "python",
   "name": "python3"
  },
  "language_info": {
   "codemirror_mode": {
    "name": "ipython",
    "version": 3
   },
   "file_extension": ".py",
   "mimetype": "text/x-python",
   "name": "python",
   "nbconvert_exporter": "python",
   "pygments_lexer": "ipython3",
   "version": "3.11.6"
  }
 },
 "nbformat": 4,
 "nbformat_minor": 5
}
