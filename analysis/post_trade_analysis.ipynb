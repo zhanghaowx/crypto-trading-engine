{
 "cells": [
  {
   "cell_type": "markdown",
   "id": "53f2ee0eafcddfef",
   "metadata": {
    "collapsed": false
   },
   "source": [
    "# Post Trade Analysis\n",
    "\n",
    "Note: Please drag the SQLite file to the folder where you ran this notebook."
   ]
  },
  {
   "cell_type": "markdown",
   "source": [
    "# Plot Candlesticks and Trades\n"
   ],
   "metadata": {
    "collapsed": false
   },
   "id": "afde0a67f3e4415d"
  },
  {
   "cell_type": "code",
   "outputs": [],
   "source": [
    "# Enable autoreload extension\n",
    "%load_ext autoreload\n",
    "%autoreload 2"
   ],
   "metadata": {
    "collapsed": false
   },
   "id": "dba9a517d2aba2da",
   "execution_count": null
  },
  {
   "cell_type": "code",
   "outputs": [],
   "source": [
    "import pandas as pd\n",
    "\n",
    "from analysis.scripts.post_trade_plot import PostTradePlot\n",
    "\n",
    "tool = PostTradePlot(\"/tmp/replay.sqlite\")\n",
    "pd.DataFrame.from_dict(tool.get_profit(), orient=\"index\")"
   ],
   "metadata": {
    "collapsed": false
   },
   "id": "3ff17b281b7d3cdc",
   "execution_count": null
  },
  {
   "cell_type": "code",
   "outputs": [],
   "source": [
    "tool.draw()"
   ],
   "metadata": {
    "collapsed": false
   },
   "id": "3fd8c00f24444ab8",
   "execution_count": null
  },
  {
   "cell_type": "code",
   "outputs": [],
   "source": [
    "tool.load_opportunities()"
   ],
   "metadata": {
    "collapsed": false
   },
   "id": "629573a903a3002",
   "execution_count": null
  }
 ],
 "metadata": {
  "kernelspec": {
   "display_name": "Python 3 (ipykernel)",
   "language": "python",
   "name": "python3"
  },
  "language_info": {
   "codemirror_mode": {
    "name": "ipython",
    "version": 3
   },
   "file_extension": ".py",
   "mimetype": "text/x-python",
   "name": "python",
   "nbconvert_exporter": "python",
   "pygments_lexer": "ipython3",
   "version": "3.11.6"
  }
 },
 "nbformat": 4,
 "nbformat_minor": 5
}
