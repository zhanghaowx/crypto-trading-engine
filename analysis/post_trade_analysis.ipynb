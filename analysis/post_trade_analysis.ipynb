{
 "cells": [
  {
   "cell_type": "markdown",
   "id": "53f2ee0eafcddfef",
   "metadata": {
    "collapsed": false
   },
   "source": [
    "# Post Trade Analysis\n",
    "\n",
    "Note: Please drag the SQLite file to the folder where you ran this notebook."
   ]
  },
  {
   "cell_type": "markdown",
   "source": [
    "# Plot Candlesticks and Trades\n"
   ],
   "metadata": {
    "collapsed": false
   },
   "id": "afde0a67f3e4415d"
  },
  {
   "cell_type": "code",
   "outputs": [],
   "source": [
    "# Enable autoreload extension\n",
    "%load_ext autoreload\n",
    "%autoreload 2\n",
    "import pandas as pd\n",
    "\n",
    "from analysis.scripts.post_trade_plot import PostTradePlot\n",
    "\n",
    "tool = PostTradePlot(\"/tmp/replay.sqlite\")"
   ],
   "metadata": {
    "collapsed": false
   },
   "id": "f5feea44001dcb4f"
  },
  {
   "cell_type": "code",
   "outputs": [],
   "source": [
    "summary = pd.DataFrame.from_dict(tool.get_summary(), orient=\"index\", columns=[\"Count\"])\n",
    "summary"
   ],
   "metadata": {
    "collapsed": false
   },
   "id": "8608ccc9a75899ec"
  },
  {
   "cell_type": "code",
   "outputs": [],
   "source": [
    "tool.load_trade_result()"
   ],
   "metadata": {
    "collapsed": false
   },
   "id": "5eeda1b7c7fb48ed"
  },
  {
   "cell_type": "code",
   "outputs": [],
   "source": [
    "tool.draw().show()"
   ],
   "metadata": {
    "collapsed": false
   },
   "id": "a62a21c4fe0bbb14"
  },
  {
   "cell_type": "code",
   "outputs": [],
   "source": [
    "tool.load_candlesticks().quantile([0.75, 0.8, 0.85, 0.9, 0.95, 1.0])"
   ],
   "metadata": {
    "collapsed": false
   },
   "id": "e40fe2aed0c7d47a"
  },
  {
   "cell_type": "code",
   "outputs": [],
   "source": [
    "model, predict_df = tool.predict(predict_cutoff=0.2, drop_columns=[])"
   ],
   "metadata": {
    "collapsed": false
   },
   "id": "6da075d8c749e4f5"
  },
  {
   "cell_type": "code",
   "outputs": [],
   "source": [
    "import seaborn as sns\n",
    "sns.scatterplot(\n",
    "    predict_df,\n",
    "    x=\"predict\",\n",
    "    y=\"is_profit\",\n",
    ")"
   ],
   "metadata": {
    "collapsed": false
   },
   "id": "f083ba97c10deded"
  }
 ],
 "metadata": {
  "kernelspec": {
   "display_name": "Python 3 (ipykernel)",
   "language": "python",
   "name": "python3"
  },
  "language_info": {
   "codemirror_mode": {
    "name": "ipython",
    "version": 3
   },
   "file_extension": ".py",
   "mimetype": "text/x-python",
   "name": "python",
   "nbconvert_exporter": "python",
   "pygments_lexer": "ipython3",
   "version": "3.11.6"
  }
 },
 "nbformat": 4,
 "nbformat_minor": 5
}
