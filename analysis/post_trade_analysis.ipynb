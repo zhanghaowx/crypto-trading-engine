{
 "cells": [
  {
   "cell_type": "markdown",
   "source": [
    "# Post Trade Analysis\n",
    "\n",
    "Note: Please drag the SQLite file to the folder where you ran this notebook."
   ],
   "metadata": {
    "collapsed": false
   },
   "id": "53f2ee0eafcddfef"
  },
  {
   "cell_type": "code",
   "outputs": [],
   "source": [
    "import numpy as np\n",
    "import pandas as pd\n",
    "import mplfinance as mpf\n",
    "import matplotlib.pyplot as plt\n",
    "import sqlite3\n",
    "\n",
    "def table_exists(conn: sqlite3.Connection, table_name: str)-> bool:        \n",
    "    # SQL query to check if the table exists\n",
    "    query = f\"SELECT name FROM sqlite_master WHERE type='table' AND name='{table_name}';\"\n",
    "    \n",
    "    # Execute the query\n",
    "    query_result = pd.read_sql_query(query, conn)\n",
    "    return len(query_result) > 0\n",
    "\n",
    "\n",
    "def get_trades(conn: sqlite3.Connection, table_name: str, market_side: str) -> pd.DataFrame:\n",
    "    if table_exists(conn, table_name):\n",
    "        trades_df = pd.read_sql(f\"select * from {table_name} where side='{market_side.upper()}'\",\n",
    "                         con=conn)\n",
    "        trades_df[\"transaction_time\"] = pd.to_datetime(trades_df[\"transaction_time\"]).dt.round(\"1min\")\n",
    "        trades_df.set_index('transaction_time', inplace=True)\n",
    "        \n",
    "        print(f\"Read {len(trades_df)} trades from {table_name} table.\")\n",
    "        return trades_df\n",
    "    \n",
    "    print(f\"Read 0 trades from {table_name} table.\")\n",
    "    return pd.DataFrame()\n",
    "\n",
    "\n",
    "def plot_trades(database_name: str):\n",
    "    # Plotting candlestick chart with buy and sell orders\n",
    "    fig, ax = plt.subplots(figsize=(30, 10))\n",
    "    \n",
    "    # Database connection\n",
    "    conn = sqlite3.connect(database_name)\n",
    "\n",
    "    # Read candlesticks from database\n",
    "    df_candlesticks = pd.read_sql(\"select * from calculated_candlestick_feed\", con=conn)\n",
    "    df_candlesticks[\"start_time\"] = pd.to_datetime(df_candlesticks[\"start_time\"], format=\"%Y-%m-%d %H:%M:%S%z\")\n",
    "    df_candlesticks[\"end_time\"] = pd.to_datetime(df_candlesticks[\"end_time\"], format=\"%Y-%m-%d %H:%M:%S%z\")\n",
    "    df_candlesticks.set_index('start_time', inplace=True)\n",
    "    df_candlesticks.sort_index(ascending=True, inplace=True)\n",
    "\n",
    "    # Additional plots to draw buy orders with green triangles and sell orders with red triangles\n",
    "    add_plots = []\n",
    "\n",
    "    # Read buy orders from database\n",
    "    buy_orders_df = get_trades(conn, \"order_fill\", \"buy\")\n",
    "    if len(buy_orders_df) > 0:\n",
    "        buy_orders_df = buy_orders_df.reindex(df_candlesticks.index, axis='index', fill_value=np.NaN)\n",
    "        add_plots.append(mpf.make_addplot(buy_orders_df['price'], type='scatter', markersize=25, marker='^', color='g', label='Buy Orders', ax=ax))\n",
    "\n",
    "    # Read sell orders from database\n",
    "    sell_orders_df = get_trades(conn, \"order_fill\", \"sell\")\n",
    "    if len(sell_orders_df) > 0:\n",
    "        sell_orders_df = sell_orders_df.reindex(df_candlesticks.index, axis='index', fill_value=np.NaN)\n",
    "        add_plots.append(mpf.make_addplot(sell_orders_df['price'], type='scatter', markersize=25, marker='v', color='r', label='Sell Orders', ax=ax))\n",
    "    \n",
    "    # Plot candlestick chart\n",
    "    mpf.plot(df_candlesticks, \n",
    "             ax=ax, \n",
    "             type='candle', \n",
    "             style='yahoo', \n",
    "             axtitle=f'{len(df_candlesticks)} Candlestick Chart with {len(buy_orders_df.dropna())} Buy and {len(sell_orders_df.dropna())} Sell Orders', \n",
    "             xlabel=\"Time\",\n",
    "             ylabel='Price', \n",
    "             datetime_format='%Y-%m-%dT%H:%M:%S', \n",
    "             addplot=add_plots)\n",
    "\n",
    "    # fig = go.Figure(data=[go.Candlestick(x=df_candlesticks[\"start_time\"], open=df_candlesticks[\"open\"], close=df_candlesticks[\"close\"], high=df_candlesticks[\"high\"], low=df_candlesticks[\"low\"])])\n",
    "\n",
    "    # Display legend\n",
    "    if len(add_plots) > 0:\n",
    "        ax.legend()\n",
    "\n",
    "    # Show the plot\n",
    "    plt.grid(True)\n",
    "    plt.show()\n",
    "    \n",
    "plot_trades('crypto.sqlite3')\n"
   ],
   "metadata": {
    "collapsed": true
   },
   "id": "initial_id",
   "execution_count": null
  },
  {
   "cell_type": "markdown",
   "source": [],
   "metadata": {
    "collapsed": false
   },
   "id": "d380ac55140b4f"
  }
 ],
 "metadata": {
  "kernelspec": {
   "display_name": "Python 3",
   "language": "python",
   "name": "python3"
  },
  "language_info": {
   "codemirror_mode": {
    "name": "ipython",
    "version": 2
   },
   "file_extension": ".py",
   "mimetype": "text/x-python",
   "name": "python",
   "nbconvert_exporter": "python",
   "pygments_lexer": "ipython2",
   "version": "2.7.6"
  }
 },
 "nbformat": 4,
 "nbformat_minor": 5
}
