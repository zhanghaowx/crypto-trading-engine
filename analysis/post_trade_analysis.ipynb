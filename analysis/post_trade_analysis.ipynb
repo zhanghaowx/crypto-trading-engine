{
 "cells": [
  {
   "cell_type": "markdown",
   "id": "53f2ee0eafcddfef",
   "metadata": {
    "collapsed": false
   },
   "source": [
    "# Post Trade Analysis\n",
    "\n",
    "Note: Please drag the SQLite file to the folder where you ran this notebook."
   ]
  },
  {
   "cell_type": "markdown",
   "source": [
    "# Plot Candlesticks and Trades\n"
   ],
   "metadata": {
    "collapsed": false
   },
   "id": "afde0a67f3e4415d"
  },
  {
   "cell_type": "code",
   "outputs": [],
   "source": [
    "\n",
    "# Enable autoreload extension\n",
    "%load_ext autoreload\n",
    "%autoreload 2\n",
    "import pandas as pd\n",
    "\n",
    "from analysis.scripts.post_trade_plot import PostTradePlot"
   ],
   "metadata": {
    "collapsed": false
   },
   "id": "dba9a517d2aba2da",
   "execution_count": null
  },
  {
   "cell_type": "code",
   "outputs": [],
   "source": [
    "tool = PostTradePlot(\"/tmp/unittest.sqlite\")\n",
    "pd.DataFrame.from_dict(tool.get_summary(), orient=\"index\", columns=[\"Count\"])"
   ],
   "metadata": {
    "collapsed": false
   },
   "id": "3ff17b281b7d3cdc",
   "execution_count": null
  },
  {
   "cell_type": "code",
   "outputs": [],
   "source": [
    "tool.draw().show()"
   ],
   "metadata": {
    "collapsed": false
   },
   "id": "3fd8c00f24444ab8",
   "execution_count": null
  },
  {
   "cell_type": "code",
   "outputs": [],
   "source": [
    "tool.save_draw()"
   ],
   "metadata": {
    "collapsed": false
   },
   "id": "34c63d39327bdd3b",
   "execution_count": null
  },
  {
   "cell_type": "code",
   "outputs": [],
   "source": [
    "tool.load_candlesticks().quantile([0.75, 0.8, 0.85, 0.9, 0.95, 1.0])"
   ],
   "metadata": {
    "collapsed": false
   },
   "id": "1f850d4bc20c2fee",
   "execution_count": null
  },
  {
   "cell_type": "code",
   "outputs": [],
   "source": [
    "df = tool.load_opportunities()\n",
    "df.drop([\"index\", \"buy_order.quantity\", \"sell_order.quantity\", \"buy_trades.0.quantity\", \"sell_trades.0.quantity\"], axis=1, inplace=True)\n",
    "df.select_dtypes(\"number\").corr()[\"profit\"].sort_values(ascending=False)"
   ],
   "metadata": {
    "collapsed": false
   },
   "id": "6f1e69fbe6d28e87",
   "execution_count": null
  },
  {
   "cell_type": "code",
   "outputs": [],
   "source": [
    "filtered_df = df[[\"opportunity.score_details.is_bullish_pct\", \"profit\", \"opportunity.score\", \"opportunity.bull_flag_pattern.bull_flag_body\"]]\n",
    "filtered_df"
   ],
   "metadata": {
    "collapsed": false
   },
   "id": "f5e463442c9ca3db",
   "execution_count": null
  }
 ],
 "metadata": {
  "kernelspec": {
   "display_name": "Python 3 (ipykernel)",
   "language": "python",
   "name": "python3"
  },
  "language_info": {
   "codemirror_mode": {
    "name": "ipython",
    "version": 3
   },
   "file_extension": ".py",
   "mimetype": "text/x-python",
   "name": "python",
   "nbconvert_exporter": "python",
   "pygments_lexer": "ipython3",
   "version": "3.11.6"
  }
 },
 "nbformat": 4,
 "nbformat_minor": 5
}
