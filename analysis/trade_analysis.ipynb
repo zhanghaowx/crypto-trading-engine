{
 "cells": [
  {
   "cell_type": "markdown",
   "id": "53f2ee0eafcddfef",
   "metadata": {
    "collapsed": false
   },
   "source": [
    "# Post Trade Analysis\n",
    "\n",
    "Run all cells to get an idea of the trade result."
   ]
  },
  {
   "cell_type": "code",
   "outputs": [],
   "source": [
    "# Enable autoreload extension\n",
    "%load_ext autoreload\n",
    "%autoreload 2"
   ],
   "metadata": {
    "collapsed": false
   },
   "id": "781e8b00066a2204",
   "execution_count": null
  },
  {
   "cell_type": "code",
   "outputs": [],
   "source": [
    "from analysis.scripts.database_tool import DatabaseTool\n",
    "from analysis.scripts.ml_tool import MLTool\n",
    "from analysis.scripts.visualization_tool import VisualizationTool\n",
    "\n",
    "db_tool = DatabaseTool(\"/tmp/replay.sqlite\")\n",
    "vis_tool = VisualizationTool(db_tool)\n",
    "ml_tool = MLTool(db_tool)"
   ],
   "metadata": {
    "collapsed": false
   },
   "id": "f5feea44001dcb4f",
   "execution_count": null
  },
  {
   "cell_type": "markdown",
   "source": [
    "# Statistical Analysis"
   ],
   "metadata": {
    "collapsed": false
   },
   "id": "4e43e67111e616bc"
  },
  {
   "cell_type": "code",
   "outputs": [],
   "source": [
    "import pandas as pd\n",
    "\n",
    "summary = pd.DataFrame.from_dict(ml_tool.get_summary(), orient=\"index\", columns=[\"Count\"])\n",
    "summary"
   ],
   "metadata": {
    "collapsed": false
   },
   "id": "8608ccc9a75899ec",
   "execution_count": null
  },
  {
   "cell_type": "markdown",
   "source": [
    "# Visualization"
   ],
   "metadata": {
    "collapsed": false
   },
   "id": "8038efd42f72b095"
  },
  {
   "cell_type": "code",
   "outputs": [],
   "source": [
    "vis_tool.draw().show()"
   ],
   "metadata": {
    "collapsed": false
   },
   "id": "f7c33730e340e7cd",
   "execution_count": null
  }
 ],
 "metadata": {
  "kernelspec": {
   "display_name": "Python 3 (ipykernel)",
   "language": "python",
   "name": "python3"
  },
  "language_info": {
   "codemirror_mode": {
    "name": "ipython",
    "version": 3
   },
   "file_extension": ".py",
   "mimetype": "text/x-python",
   "name": "python",
   "nbconvert_exporter": "python",
   "pygments_lexer": "ipython3",
   "version": "3.11.6"
  }
 },
 "nbformat": 4,
 "nbformat_minor": 5
}
